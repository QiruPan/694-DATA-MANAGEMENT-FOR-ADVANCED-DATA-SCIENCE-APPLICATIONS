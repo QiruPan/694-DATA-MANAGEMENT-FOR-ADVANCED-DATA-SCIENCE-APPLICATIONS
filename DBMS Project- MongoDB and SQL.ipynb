{
 "cells": [
  {
   "cell_type": "code",
   "execution_count": 73,
   "id": "a3544981",
   "metadata": {},
   "outputs": [
    {
     "name": "stdout",
     "output_type": "stream",
     "text": [
      "Requirement already satisfied: pymongo in ./miniconda3/lib/python3.10/site-packages (4.3.3)\r\n",
      "Requirement already satisfied: dnspython<3.0.0,>=1.16.0 in ./miniconda3/lib/python3.10/site-packages (from pymongo) (2.3.0)\r\n"
     ]
    }
   ],
   "source": [
    "!pip install pymongo\n",
    "from pymongo import MongoClient\n",
    "import pymongo"
   ]
  },
  {
   "cell_type": "code",
   "execution_count": 74,
   "id": "92e9cacb",
   "metadata": {},
   "outputs": [],
   "source": [
    "#before running the code, please read each code block's intructions carefully. \n",
    "\n",
    "#Once you open up MongoDB Compass, copy the connection string below to connect to Compass. \n",
    "#Download MongoDB Community Edition to host a local cluster: https://www.mongodb.com/docs/manual/tutorial/install-mongodb-on-windows/ \n",
    "#An easy tutorial for Mac users: https://medium.com/create-a-clocking-in-system-on-react/creating-a-local-mongodb-database-and-insert-a-document-c6a4a2102a22\n",
    "#Once you have MongoDB, be sure you can establish a local connection to Compass using the connection string: \"mongodb://localhost:27017/\"\n",
    "\n",
    "client = MongoClient(\"mongodb://localhost:27017/\")"
   ]
  },
  {
   "cell_type": "code",
   "execution_count": 75,
   "id": "6bbe4830",
   "metadata": {},
   "outputs": [],
   "source": [
    "#Inserting corona-out-2's raw data"
   ]
  },
  {
   "cell_type": "code",
   "execution_count": 95,
   "id": "cbc6762f",
   "metadata": {},
   "outputs": [],
   "source": [
    "#Define the database \"DBFinalProject-out-2\" and the collection \"tweets\".\n",
    "\n",
    "db = client[\"my_database\"]\n",
    "collection_name = db[\"tweets\"]"
   ]
  },
  {
   "cell_type": "code",
   "execution_count": 77,
   "id": "7b270dcf",
   "metadata": {},
   "outputs": [],
   "source": [
    "#The following code opens the corona-out-2 file and loads it into \"parsed_data and writes it onto disk.\n",
    "#Expect this to take a while. \n",
    "\n",
    "#The first part loads the data. \n",
    "#Note that due to the nature of the original file, each line must be split as shown below. \n",
    "#You should modify the code below with the directory to your \"corona-out-2\" file\n",
    "\n",
    "import json\n",
    "\n",
    "with open('/Users/mazinrafi/Downloads/corona-out-2', 'r') as f:\n",
    "    parsed_data = []\n",
    "    for line in f:\n",
    "        line = line.strip()\n",
    "        if not line:\n",
    "            continue\n",
    "        obj = json.loads(line)\n",
    "        parsed_data.append(obj)\n",
    "\n",
    "        \n",
    "#This second part writes the parsed file as a json file to disk. This file is called corona-out-2.json\n",
    "#You may modify the file's extension to where you would like. This is saved to my download files. \n",
    "with open('/Users/mazinrafi/Downloads/corona-out-2.json', 'w') as f:\n",
    "    json.dump(parsed_data, f)"
   ]
  },
  {
   "cell_type": "code",
   "execution_count": 96,
   "id": "33bc26cc",
   "metadata": {},
   "outputs": [],
   "source": [
    "#This will load the json file as \"file_data\" and uses the MongoDB \"insert_many\" command to insert the tweets. \n",
    "#After running this, the db: DBFinalProject-out-2 and \"tweets\" collection should be viewable on MongoDB Compass. \n",
    "\n",
    "#First we read the newly created json file from disk. As expected, this should take a while. \n",
    "\n",
    "import json\n",
    "with open('/Users/mazinrafi/Downloads/corona-out-2.json') as f:\n",
    "    file_data = json.load(f)\n",
    "#The total number of tweets is 18518 if you run collection_name.insert_many(file_data). But is that actually true?\n",
    "    \n",
    "    \n",
    "#The actual number of tweets with a unique ID is 18506, meaning 12 documents don't\n",
    "#have a document id associated with it\n",
    "We see this here: \n",
    "for item in file_data:\n",
    "    # Insert or update the document in the collection using the \"id\" field as the unique identifier\n",
    "    collection_name.replace_one({'id': item['id']}, item, upsert=True)"
   ]
  },
  {
   "cell_type": "code",
   "execution_count": 97,
   "id": "5ab72731",
   "metadata": {},
   "outputs": [],
   "source": [
    "#Inserting corona-out-3 raw data. Similar setup to above."
   ]
  },
  {
   "cell_type": "code",
   "execution_count": 98,
   "id": "b07b1578",
   "metadata": {},
   "outputs": [],
   "source": [
    "import json\n",
    "\n",
    "with open('/Users/mazinrafi/Downloads/corona-out-3', 'r') as f:\n",
    "    parsed_data = []\n",
    "    for line in f:\n",
    "        line = line.strip()\n",
    "        if not line:\n",
    "            continue\n",
    "        obj = json.loads(line)\n",
    "        parsed_data.append(obj)\n",
    "\n",
    "with open('/Users/mazinrafi/Downloads/corona-out-3.json', 'w') as f:\n",
    "    json.dump(parsed_data, f)"
   ]
  },
  {
   "cell_type": "code",
   "execution_count": 105,
   "id": "68b9a4bd",
   "metadata": {},
   "outputs": [],
   "source": [
    "#Note. Because there are more than 100K documents in this file, the load of this will be INCREDIBLY slow. \n",
    "#This hasn't been fully tested on the corona-out-3 document. Please be careful before doing this one. \n",
    "\n",
    "client = MongoClient(\"mongodb://localhost:27017/\")\n",
    "\n",
    "db = client[\"my_final_database\"]\n",
    "collection_name = db[\"tweets\"]\n",
    "\n",
    "import json\n",
    "with open('/Users/mazinrafi/Downloads/corona-out-3.json') as f:\n",
    "    file_data = json.load(f)\n",
    "    \n",
    "#Using a \"collection_name.insert_many(file_data)\" will yield 108594\n",
    "\n",
    "#The actual number of tweets with a unique ID is 108594, meaning 2 docs don't have an id. We see this here in \n",
    "#MongoDB after the insert: \n",
    "for item in file_data:\n",
    "    # Insert or update the document in the collection using the \"id\" field as the unique identifier\n",
    "    collection_name.replace_one({'id': item['id']}, item, upsert=True)"
   ]
  },
  {
   "cell_type": "code",
   "execution_count": 106,
   "id": "d0847dda",
   "metadata": {},
   "outputs": [
    {
     "name": "stdout",
     "output_type": "stream",
     "text": [
      "Requirement already satisfied: mysql-connector-python in ./miniconda3/lib/python3.10/site-packages (8.0.32)\r\n",
      "Requirement already satisfied: protobuf<=3.20.3,>=3.11.0 in ./miniconda3/lib/python3.10/site-packages (from mysql-connector-python) (3.20.3)\r\n"
     ]
    }
   ],
   "source": [
    "##Inserting the Users into MySQL \n",
    "\n",
    "!pip install mysql-connector-python\n",
    "from mysql.connector import (connection)\n",
    "import json\n",
    "import mysql.connector"
   ]
  },
  {
   "cell_type": "code",
   "execution_count": 107,
   "id": "c500ed31",
   "metadata": {},
   "outputs": [
    {
     "name": "stdout",
     "output_type": "stream",
     "text": [
      "Connected to MySQL server.\n"
     ]
    }
   ],
   "source": [
    "#You can download MySQL here: https://dev.mysql.com/downloads/installer/\n",
    "#Connect to SQL database \"localhost\" after installing it.\n",
    "#Note that the user and password must be defined during installation and re-used here.\n",
    "#the user is \"root\" and the password is \"gXt,:RsU#U-ws:3\"\n",
    "import mysql.connector\n",
    "\n",
    "try:\n",
    "    connection1 = mysql.connector.connect(host=\"localhost\", user=\"root\", password=\"gXt,:RsU#U-ws:3\")\n",
    "    print(\"Connected to MySQL server.\")\n",
    "except mysql.connector.Error as error:\n",
    "    print(\"Failed to connect to MySQL server: {}\".format(error))\n"
   ]
  },
  {
   "cell_type": "code",
   "execution_count": 110,
   "id": "d3433c72",
   "metadata": {},
   "outputs": [
    {
     "name": "stdout",
     "output_type": "stream",
     "text": [
      "Database created successfully!\n"
     ]
    }
   ],
   "source": [
    "# create a new database. This database is called \"new_database\"\n",
    "\n",
    "connection1 = mysql.connector.connect(host=\"localhost\", user=\"root\", password=\"gXt,:RsU#U-ws:3\")\n",
    "cursor = connection1.cursor()\n",
    "cursor.execute(\"CREATE DATABASE new_database\")\n",
    "print(\"Database created successfully!\")"
   ]
  },
  {
   "cell_type": "code",
   "execution_count": 114,
   "id": "22373ea4",
   "metadata": {},
   "outputs": [
    {
     "name": "stdout",
     "output_type": "stream",
     "text": [
      "Table created successfully!\n"
     ]
    }
   ],
   "source": [
    "#Create a Table for the Users. This table is called \"users\": \n",
    "connection1 = mysql.connector.connect(host=\"localhost\", user=\"root\", password=\"gXt,:RsU#U-ws:3\",database=\"new_database\")\n",
    "cursor = connection1.cursor()\n",
    "cursor.execute(\"CREATE TABLE users (id bigint PRIMARY KEY,name VARCHAR(255), screen_name VARCHAR(255), followers_count int)\")\n",
    "print(\"Table created successfully!\")"
   ]
  },
  {
   "cell_type": "code",
   "execution_count": 115,
   "id": "cd449dbc",
   "metadata": {},
   "outputs": [],
   "source": [
    "#Insert the users into the Table\n",
    "connection1 = mysql.connector.connect(host=\"localhost\", user=\"root\", password=\"gXt,:RsU#U-ws:3\",database=\"new_database\")\n",
    "cursor = connection1.cursor()\n",
    "\n",
    "used = set()\n",
    "\n",
    "for user in users:\n",
    "    sql = \"INSERT INTO users (id, name, screen_name, followers_count) VALUES (\" + str(user['id']) + \",'\" + user['name'].replace(\"'\", \"''\") + \"','\" + user['screen_name'] + \"',\" + str(user['followers_count']) + \")\"\n",
    "    if user['id'] not in used:\n",
    "        used.add(user['id'])\n",
    "    else:\n",
    "        continue\n",
    "    cursor.execute(sql)\n",
    "\n",
    "connection1.commit()"
   ]
  },
  {
   "cell_type": "code",
   "execution_count": 118,
   "id": "ebac45b0",
   "metadata": {},
   "outputs": [
    {
     "name": "stdout",
     "output_type": "stream",
     "text": [
      "[(111783, 'Michel Bozgounov', 'optimiced', 1804), (651403, 'Brian who survived a powerline', 'BrianTRice', 1759), (764036, 'Fran Monroy Moret', 'fmonroy', 84535), (769696, 'Bexxi 🏴\\U000e0067\\U000e0062\\U000e0077\\U000e006c\\U000e0073\\U000e007f🇪🇺', 'bexxi', 1079), (782257, 'phyphor', 'phyphor', 760)]\n"
     ]
    }
   ],
   "source": [
    "#Print some of the users in the Table\n",
    "connection1 = mysql.connector.connect(host=\"localhost\", user=\"root\", password=\"gXt,:RsU#U-ws:3\",database=\"new_database\")\n",
    "\n",
    "cursor = connection1.cursor()\n",
    "\n",
    "# select the database\n",
    "cursor.execute(\"USE new_database\")\n",
    "\n",
    "# execute the SQL command to fetch the first 5 rows of the table\n",
    "cursor.execute(\"SELECT * FROM users LIMIT 5\")\n",
    "\n",
    "# fetch the result\n",
    "result = cursor.fetchall()\n",
    "\n",
    "# print the result\n",
    "print(result)"
   ]
  },
  {
   "cell_type": "code",
   "execution_count": 121,
   "id": "aa8f35b1",
   "metadata": {},
   "outputs": [
    {
     "name": "stdout",
     "output_type": "stream",
     "text": [
      "Number of users in the table: 15505\n"
     ]
    }
   ],
   "source": [
    "#print number of users (likely to be incorrect. Need to verify. Number is 15505): \n",
    "connection1 = mysql.connector.connect(host=\"localhost\", user=\"root\", password=\"gXt,:RsU#U-ws:3\",database=\"new_database\")\n",
    "\n",
    "cursor = connection1.cursor()\n",
    "\n",
    "# select the database\n",
    "cursor.execute(\"USE new_database\")\n",
    "\n",
    "# execute the SQL command to count the number of rows in the table\n",
    "cursor.execute(\"SELECT COUNT(*) FROM users\")\n",
    "\n",
    "# fetch the result\n",
    "result = cursor.fetchone()\n",
    "\n",
    "# print the number of users\n",
    "print(\"Number of users in the table:\", result[0])\n",
    "\n",
    "# close the cursor and connection\n",
    "cursor.close()\n",
    "connection1.close()"
   ]
  },
  {
   "cell_type": "code",
   "execution_count": 122,
   "id": "ebcfb5ee",
   "metadata": {},
   "outputs": [
    {
     "name": "stdout",
     "output_type": "stream",
     "text": [
      "Number of unique users: 15505\n"
     ]
    }
   ],
   "source": [
    "#Directly from file\n",
    "\n",
    "import json\n",
    "with open('/Users/mazinrafi/Downloads/corona-out-2.json') as f:\n",
    "    file_data = json.load(f)\n",
    "\n",
    "unique_users = set()\n",
    "\n",
    "for i in file_data:\n",
    "    unique_users.add(i['user']['id'])\n",
    "\n",
    "num_unique_users = len(unique_users)\n",
    "print(\"Number of unique users:\", num_unique_users)"
   ]
  },
  {
   "cell_type": "code",
   "execution_count": 58,
   "id": "658849c3",
   "metadata": {},
   "outputs": [],
   "source": [
    "#For testing purposes if needed. Do not run the cell\n",
    "\n",
    "#Drop DB. May need to adjust the connection accordingly. \n",
    "connection1 = mysql.connector.connect(host=\"localhost\", user=\"root\", password=\"gXt,:RsU#U-ws:3\",database=\"new_database\")\n",
    "cursor = connection1.cursor()\n",
    "sql= \"DROP DATABASE my_database\"\n",
    "cursor.execute(sql)\n",
    "\n",
    "#Drop Table\n",
    "connection1 = mysql.connector.connect(host=\"localhost\", user=\"root\", password=\"gXt,:RsU#U-ws:3\",database=\"new_database\")\n",
    "cursor = connection1.cursor()\n",
    "sql= \"DROP TABLE users\"\n",
    "cursor.execute(sql)\n",
    "\n",
    "#Test to see if your connection works: \n",
    "\n",
    "import mysql.connector\n",
    "import json\n",
    "\n",
    "try:\n",
    "    connection1 = mysql.connector.connect(host=\"localhost\", user=\"root\", password=\"gXt,:RsU#U-ws:3\",database=\"corona_out_2_db\")\n",
    "    print(\"Connected to MySQL server and database.\")\n",
    "except mysql.connector.Error as error:\n",
    "    print(\"Failed to connect to MySQL server: {}\".format(error))"
   ]
  },
  {
   "cell_type": "code",
   "execution_count": null,
   "id": "89fd0f09",
   "metadata": {},
   "outputs": [],
   "source": [
    "#Possible cache setup\n",
    "\n",
    "import datetime\n",
    "cache={}\n",
    "CACHE_SIZE=10\n",
    "def query(str):\n",
    "    if str in cache:\n",
    "        result,ttl=cache[str]\n",
    "        cache[str]=(result,datetime.datetime.now())\n",
    "        return result\n",
    "    else:\n",
    "        # ask the database about the result\n",
    "        output=ask_database()\n",
    "        if len(cache)>=CACHE_SIZE:\n",
    "            query_to_replace=None\n",
    "            min_time=None\n",
    "            for query in cache:\n",
    "                result,ttl=cache[query]\n",
    "                if query_to_replace=None:\n",
    "                    query_to_replace=query\n",
    "                    min_time=ttl\n",
    "                elif min_time>ttl:\n",
    "                    query_to_replace=query\n",
    "                    min_time=ttl\n",
    "            cache.remove(query_to_replace)\n",
    "        cache[str]=(output,datetime.datetime.now())\n",
    "        return output"
   ]
  },
  {
   "cell_type": "code",
   "execution_count": 43,
   "id": "d29c4648",
   "metadata": {},
   "outputs": [],
   "source": [
    "users"
   ]
  },
  {
   "cell_type": "code",
   "execution_count": 113,
   "id": "171a86e9",
   "metadata": {},
   "outputs": [
    {
     "name": "stdout",
     "output_type": "stream",
     "text": [
      "Database created successfully!\n"
     ]
    }
   ],
   "source": [
    "#Side Notes\n",
    "\n",
    "#need to keep the Python\n",
    "#JSON Import Utility\n",
    "#Primary Key needed\n",
    "#Database needed and ID\n",
    "# create a new database. This database is called \"new_database\"\n",
    "\n",
    "connection1 = mysql.connector.connect(host=\"localhost\", user=\"root\", password=\"gXt,:RsU#U-ws:3\",database=\"new_database\")\n",
    "cursor = connection1.cursor()\n",
    "cursor.execute(\"DROP TABLE users\")\n",
    "print(\"Database created successfully!\")\n"
   ]
  },
  {
   "cell_type": "code",
   "execution_count": null,
   "id": "c87516b7",
   "metadata": {},
   "outputs": [],
   "source": []
  }
 ],
 "metadata": {
  "kernelspec": {
   "display_name": "Python 3 (ipykernel)",
   "language": "python",
   "name": "python3"
  },
  "language_info": {
   "codemirror_mode": {
    "name": "ipython",
    "version": 3
   },
   "file_extension": ".py",
   "mimetype": "text/x-python",
   "name": "python",
   "nbconvert_exporter": "python",
   "pygments_lexer": "ipython3",
   "version": "3.10.8"
  }
 },
 "nbformat": 4,
 "nbformat_minor": 5
}
