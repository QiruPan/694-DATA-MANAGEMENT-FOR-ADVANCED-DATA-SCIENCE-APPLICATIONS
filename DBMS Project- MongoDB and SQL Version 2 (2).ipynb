{
 "cells": [
  {
   "cell_type": "code",
   "execution_count": 73,
   "id": "a3544981",
   "metadata": {},
   "outputs": [
    {
     "name": "stdout",
     "output_type": "stream",
     "text": [
      "Requirement already satisfied: pymongo in ./miniconda3/lib/python3.10/site-packages (4.3.3)\r\n",
      "Requirement already satisfied: dnspython<3.0.0,>=1.16.0 in ./miniconda3/lib/python3.10/site-packages (from pymongo) (2.3.0)\r\n"
     ]
    }
   ],
   "source": [
    "!pip install pymongo\n",
    "from pymongo import MongoClient\n",
    "import pymongo"
   ]
  },
  {
   "cell_type": "code",
   "execution_count": 74,
   "id": "92e9cacb",
   "metadata": {},
   "outputs": [],
   "source": [
    "#before running the code, please read each code block's intructions carefully. \n",
    "\n",
    "#Once you open up MongoDB Compass, copy the connection string below to connect to Compass. \n",
    "#Download MongoDB Community Edition to host a local cluster: https://www.mongodb.com/docs/manual/tutorial/install-mongodb-on-windows/ \n",
    "#An easy tutorial for Mac users: https://medium.com/create-a-clocking-in-system-on-react/creating-a-local-mongodb-database-and-insert-a-document-c6a4a2102a22\n",
    "#Once you have MongoDB, be sure you can establish a local connection to Compass using the connection string: \"mongodb://localhost:27017/\"\n",
    "\n",
    "client = MongoClient(\"mongodb://localhost:27017/\")"
   ]
  },
  {
   "cell_type": "code",
   "execution_count": 75,
   "id": "6bbe4830",
   "metadata": {},
   "outputs": [],
   "source": [
    "#Inserting corona-out-3's raw data. This is just to view the all of the raw data. "
   ]
  },
  {
   "cell_type": "code",
   "execution_count": 95,
   "id": "cbc6762f",
   "metadata": {},
   "outputs": [],
   "source": [
    "#Define the database \"my_final_database\" and the collection \"tweets\".\n",
    "\n",
    "db = client[\"my_final_database\"]\n",
    "collection_name = db[\"tweets\"]"
   ]
  },
  {
   "cell_type": "code",
   "execution_count": 77,
   "id": "7b270dcf",
   "metadata": {},
   "outputs": [],
   "source": [
    "#The following code opens the corona-out-3 file and loads it into \"parsed_data and writes it onto disk.\n",
    "#Expect this to take a while. \n",
    "\n",
    "#The first part loads the data. \n",
    "#Note that due to the nature of the original file, each line must be split as shown below. \n",
    "#You should modify the code below with the directory to your \"corona-out-3\" file\n",
    "\n",
    "import json\n",
    "\n",
    "with open('/Users/mazinrafi/Downloads/corona-out-3', 'r') as f:\n",
    "    parsed_data = []\n",
    "    for line in f:\n",
    "        line = line.strip()\n",
    "        if not line:\n",
    "            continue\n",
    "        obj = json.loads(line)\n",
    "        parsed_data.append(obj)\n",
    "\n",
    "        \n",
    "#This second part writes the parsed file as a json file to disk. This file is called corona-out-2.json\n",
    "#You may modify the file's extension to where you would like. This is saved to my download files. \n",
    "with open('/Users/mazinrafi/Downloads/corona-out-3.json', 'w') as f:\n",
    "    json.dump(parsed_data, f)"
   ]
  },
  {
   "cell_type": "code",
   "execution_count": 96,
   "id": "33bc26cc",
   "metadata": {},
   "outputs": [],
   "source": [
    "#This will load the json file as \"file_data\" and uses the MongoDB \"insert_many\" command to insert the tweets. \n",
    "#After running this, the db \"my_final_database\" and \"tweets\" collection should be viewable on MongoDB Compass. \n",
    "\n",
    "#First we read the newly created json file from disk. As expected, this should take a while. \n",
    "\n",
    "import json\n",
    "with open('/Users/mazinrafi/Downloads/corona-out-3.json') as f:\n",
    "    file_data = json.load(f)\n",
    "#The total number of tweets is 108596 if you run collection_name.insert_many(file_data). But is that actually true?\n",
    "    \n",
    "    \n",
    "#The actual number of tweets with a unique ID is 108594, meaning 2 documents don't\n",
    "#have a document id associated with it\n",
    "We see this here: \n",
    "for item in file_data:\n",
    "    # Insert or update the document in the collection using the \"id\" field as the unique identifier\n",
    "    collection_name.replace_one({'id': item['id']}, item, upsert=True)"
   ]
  },
  {
   "cell_type": "code",
   "execution_count": 12,
   "id": "fdb2afb7",
   "metadata": {},
   "outputs": [],
   "source": [
    "#!pip install scikit-learn\n",
    "#!pip install nltk\n",
    "#import nltk\n",
    "#nltk.download('stopwords')"
   ]
  },
  {
   "cell_type": "code",
   "execution_count": 106,
   "id": "7e389cf4",
   "metadata": {},
   "outputs": [],
   "source": [
    "#Main setup for the App. This uses the TDM Creation code:\n",
    "\n",
    "import json\n",
    "from sklearn.feature_extraction.text import CountVectorizer\n",
    "from nltk.corpus import stopwords\n",
    "import numpy as np\n",
    "\n",
    "f= open('/Users/mazinrafi/Downloads/corona-out-3','r')\n",
    "\n",
    "tweets = {}\n",
    "texts = {}\n",
    "users = {}\n",
    "hashtags = {}\n",
    "\n",
    "#aside: we might choose to see if verified=True too if you would like\n",
    "tweet_keys = ['created_at', 'id_str', 'quote_count', 'reply_count', 'retweet_count', 'favorite_count']\n",
    "user_keys = ['name', 'screen_name', 'verified', 'followers_count', 'friends_count', 'created_at']\n",
    "\n",
    "for line in f:\n",
    "    if line == '\\n':\n",
    "        continue\n",
    "    lx = json.loads(line)\n",
    "    li = dict((k, lx[k]) for k in tweet_keys if k in lx)\n",
    "    li['user'] = lx['user']['id']\n",
    "    \n",
    "    if not 'retweeted_status' in lx or len(lx['retweeted_status']) == 0:\n",
    "        li['retweet'] = False\n",
    "        if 'extended_tweet' in lx:    \n",
    "            thisText = lx['extended_tweet']['full_text']\n",
    "        else:\n",
    "            thisText = lx['text']\n",
    "        li['text'] = thisText\n",
    "        texts[lx['id']] = thisText\n",
    "        hashtag_set = list(set(part[1:] for part in thisText.split() if part.startswith('#')))\n",
    "        li['hashtags'] = hashtag_set\n",
    "        for hashtag in hashtag_set:\n",
    "            if hashtag in hashtags.keys():\n",
    "                hashtags[hashtag].append(lx['id'])\n",
    "            else:\n",
    "                hashtags[hashtag] = [lx['id']]\n",
    "    else:\n",
    "        li['retweet'] = True\n",
    "        li['original_tweet'] = lx['retweeted_status']['id']\n",
    "    tweets[lx['id']] = li\n",
    "    if not lx['user']['id'] in users.keys():\n",
    "        users[lx['user']['id']] = dict((k, lx['user'][k]) for k in user_keys if k in lx['user'])\n",
    "\n",
    "f.close()\n",
    "\n",
    "vectorizer = CountVectorizer(token_pattern=r\"(?u)\\b[a-z][a-z]+\\b\", stop_words=stopwords.words('english'), min_df = 500)\n",
    "\n",
    "X = np.transpose(vectorizer.fit_transform(texts.values()))\n",
    "\n",
    "key_list = [*texts.keys()]\n",
    "word_list = [*vectorizer.get_feature_names_out()]\n",
    "\n",
    "X\n",
    "\n",
    "x1 = X.toarray()\n",
    "\n",
    "x2 = dict((word_list[w], [key_list[t] for t in np.where(x1[w]>0)[0]]) for w in range(len(x1)))\n",
    "\n",
    "\n",
    "with open(\"/Users/mazinrafi/Downloads/overall_tdm.json\", \"w\") as outfile:\n",
    "    json.dump(x2, outfile, indent=2)\n",
    "\n",
    "with open(\"/Users/mazinrafi/Downloads/hashtag_tdm.json\", \"w\") as outfile:\n",
    "    json.dump(hashtags, outfile, indent=2)\n",
    "\n",
    "# upload tweets, x2 to mongodb, users to mysql\n",
    "\n",
    "# s1 = [sum(i>0) for i in x1]\n",
    "\n",
    "# s1 = [np.log(i) for i in s1]\n",
    "\n",
    "# from matplotlib import pyplot as plt\n",
    "\n",
    "# fig, ax = plt.subplots(figsize =(10, 7))\n",
    "# ax.hist(s1)\n"
   ]
  },
  {
   "cell_type": "code",
   "execution_count": 107,
   "id": "6fa07897",
   "metadata": {},
   "outputs": [],
   "source": [
    "db = client['TwitterDB']\n",
    "collection = db['tweets']\n",
    "\n",
    "# Insert tweets into collection\n",
    "for tweet_id, tweet_data in tweets.items():\n",
    "    collection.insert_one(tweet_data)\n",
    "    \n"
   ]
  },
  {
   "cell_type": "code",
   "execution_count": 108,
   "id": "1f5c46b4",
   "metadata": {},
   "outputs": [
    {
     "data": {
      "text/plain": [
       "101894"
      ]
     },
     "execution_count": 108,
     "metadata": {},
     "output_type": "execute_result"
    }
   ],
   "source": [
    "len(tweets)"
   ]
  },
  {
   "cell_type": "code",
   "execution_count": 38,
   "id": "7542d54f",
   "metadata": {},
   "outputs": [
    {
     "data": {
      "text/plain": [
       "<pymongo.results.InsertOneResult at 0x16c91aa70>"
      ]
     },
     "execution_count": 38,
     "metadata": {},
     "output_type": "execute_result"
    }
   ],
   "source": [
    "#Upload the TDM json onto the server\n",
    "\n",
    "client = MongoClient(\"mongodb://localhost:27017/\")\n",
    "\n",
    "# Create a new database\n",
    "db = client[\"TwitterDB\"]\n",
    "\n",
    "# Create a new collection\n",
    "collection = db[\"TDM\"]\n",
    "\n",
    "# Load the data from the JSON file\n",
    "with open('/Users/mazinrafi/Downloads/overall_tdm.json') as f:\n",
    "     = json.load(f)\n",
    "\n",
    "# Insert the data into the collection\n",
    "collection.insert_one(data)"
   ]
  },
  {
   "cell_type": "code",
   "execution_count": 59,
   "id": "1423ee33",
   "metadata": {},
   "outputs": [
    {
     "data": {
      "text/plain": [
       "<pymongo.results.InsertOneResult at 0x285d38250>"
      ]
     },
     "execution_count": 59,
     "metadata": {},
     "output_type": "execute_result"
    }
   ],
   "source": [
    "#Upload the Hashtag json onto the server\n",
    "\n",
    "client = MongoClient(\"mongodb://localhost:27017/\")\n",
    "\n",
    "# Create a new database\n",
    "db = client[\"TwitterDB\"]\n",
    "\n",
    "# Create a new collection\n",
    "collection = db[\"Hashtags\"]\n",
    "\n",
    "# Load the data from the JSON file\n",
    "with open('/Users/mazinrafi/Downloads/hashtag_tdm.json') as f:\n",
    "    data = json.load(f)\n",
    "\n",
    "# Insert the data into the collection\n",
    "collection.insert_one(data)"
   ]
  },
  {
   "cell_type": "code",
   "execution_count": 105,
   "id": "ab715a9a",
   "metadata": {},
   "outputs": [
    {
     "name": "stdout",
     "output_type": "stream",
     "text": [
      "Text: im making 17 a hr doing nothing 😭😭😭😭 i love this corona pay\n",
      "Favorite count: 0\n",
      "Retweet count: 0\n",
      "Text: @VinceMcMahon @TripleH We hereby honor to announce that we have developed a brand new treatment method using UV rays / Laser Ray that might be used effectively for preventing all mankind from infectious virus.\n",
      "\n",
      "#covid #covid19 #Covid_19 #corona #vascular #endovascular https://t.co/YkVlYtJiGL\n",
      "Favorite count: 0\n",
      "Retweet count: 0\n",
      "Text: É isto, ou vou morrer sem ar ou com o corona https://t.co/O0Y7B3Koj4\n",
      "Favorite count: 0\n",
      "Retweet count: 0\n",
      "Text: Schöne Runde mit dem Rennrad ✌️\n",
      "#sport #corona https://t.co/Uglj9YJPI1\n",
      "Favorite count: 0\n",
      "Retweet count: 0\n",
      "Text: Was sollen 150 Euro Computerzuschuss bringen? Wer wartet die Computer in den 427 NRW Kommunen (Schulträger) wer die Server vor Ort. Lernen lebt von Face to Face . Sonst könnten wir die Kinder betreut ( keine teure Lehrkraft) vor 1 Computer setzen &amp;zentral aus Düsseldorf beschulen\n",
      "Favorite count: 0\n",
      "Retweet count: 0\n"
     ]
    }
   ],
   "source": [
    "import pymongo\n",
    "import json\n",
    "from pymongo import MongoClient\n",
    "import pandas as pd\n",
    "\n",
    "# Perform the query to find the top 10 tweets based on favorite_count. Note that this \n",
    "client = MongoClient(\"mongodb://localhost:27017/\")\n",
    "db = client['TwitterDB']\n",
    "collection = db['tweets']\n",
    "\n",
    "top_tweets = db.tweets.find().sort(\"favorite_count\", pymongo.DESCENDING).limit(10)\n",
    "\n",
    "for tweet in top_tweets:\n",
    "    if 'text' in tweet:\n",
    "        print(\"Text:\", tweet['text'])\n",
    "        print(\"Favorite count:\", tweet['favorite_count'])\n",
    "        print(\"Retweet count:\", tweet['retweet_count'])"
   ]
  },
  {
   "cell_type": "code",
   "execution_count": 62,
   "id": "d0847dda",
   "metadata": {},
   "outputs": [
    {
     "name": "stdout",
     "output_type": "stream",
     "text": [
      "Requirement already satisfied: mysql-connector-python in ./miniconda3/lib/python3.10/site-packages (8.0.32)\r\n",
      "Requirement already satisfied: protobuf<=3.20.3,>=3.11.0 in ./miniconda3/lib/python3.10/site-packages (from mysql-connector-python) (3.20.3)\r\n"
     ]
    }
   ],
   "source": [
    "##Inserting the Users into MySQL \n",
    "\n",
    "!pip install mysql-connector-python\n",
    "from mysql.connector import (connection)\n",
    "import json\n",
    "import mysql.connector"
   ]
  },
  {
   "cell_type": "code",
   "execution_count": 64,
   "id": "c500ed31",
   "metadata": {},
   "outputs": [
    {
     "name": "stdout",
     "output_type": "stream",
     "text": [
      "Connected to MySQL server.\n"
     ]
    }
   ],
   "source": [
    "#You can download MySQL here: https://dev.mysql.com/downloads/installer/\n",
    "#Connect to SQL database \"localhost\" after installing it.\n",
    "#Note that the user and password must be defined during installation and re-used here.\n",
    "#the user is \"root\" and the password is \"gXt,:RsU#U-ws:3\"\n",
    "import mysql.connector\n",
    "\n",
    "try:\n",
    "    connection1 = mysql.connector.connect(host=\"localhost\", user=\"root\", password=\"gXt,:RsU#U-ws:3\")\n",
    "    print(\"Connected to MySQL server.\")\n",
    "except mysql.connector.Error as error:\n",
    "    print(\"Failed to connect to MySQL server: {}\".format(error))\n"
   ]
  },
  {
   "cell_type": "code",
   "execution_count": 79,
   "id": "d3433c72",
   "metadata": {},
   "outputs": [
    {
     "name": "stdout",
     "output_type": "stream",
     "text": [
      "Database created successfully!\n"
     ]
    }
   ],
   "source": [
    "# create a new database. This database is called \"new_database\"\n",
    "\n",
    "connection1 = mysql.connector.connect(host=\"localhost\", user=\"root\", password=\"gXt,:RsU#U-ws:3\")\n",
    "cursor = connection1.cursor()\n",
    "cursor.execute(\"CREATE DATABASE new_database\")\n",
    "print(\"Database created successfully!\")\n"
   ]
  },
  {
   "cell_type": "code",
   "execution_count": 80,
   "id": "152c609b",
   "metadata": {},
   "outputs": [
    {
     "name": "stdout",
     "output_type": "stream",
     "text": [
      "Table created successfully!\n"
     ]
    }
   ],
   "source": [
    "#create a new table. This one is called users_table\n",
    "\n",
    "connection1 = mysql.connector.connect(host=\"localhost\", user=\"root\", password=\"gXt,:RsU#U-ws:3\",database=\"new_database\")\n",
    "cursor = connection1.cursor()\n",
    "cursor.execute(\"CREATE TABLE users_table (id bigint PRIMARY KEY,name VARCHAR(255), screen_name VARCHAR(255), followers_count int)\")\n",
    "print(\"Table created successfully!\")"
   ]
  },
  {
   "cell_type": "code",
   "execution_count": 81,
   "id": "22373ea4",
   "metadata": {},
   "outputs": [],
   "source": [
    "#Insert the users into the Table\n",
    "connection1 = mysql.connector.connect(\n",
    "    host=\"localhost\",\n",
    "    user=\"root\",\n",
    "    password=\"gXt,:RsU#U-ws:3\",\n",
    "    database=\"new_database\"\n",
    ")\n",
    "cursor = connection1.cursor()\n",
    "\n",
    "used = set()\n",
    "\n",
    "for user_id, user_data in users.items():\n",
    "    sql = \"INSERT INTO users_table (id, name, screen_name, followers_count) VALUES (\" + str(user_id) + \",'\" + user_data['name'].replace(\"'\", \"''\") + \"','\" + user_data['screen_name'] + \"',\" + str(user_data['followers_count']) + \")\"\n",
    "    if user_id not in used:\n",
    "        used.add(user_id)\n",
    "    else:\n",
    "        continue\n",
    "    cursor.execute(sql)\n",
    "\n",
    "connection1.commit()\n"
   ]
  },
  {
   "cell_type": "code",
   "execution_count": 85,
   "id": "ebac45b0",
   "metadata": {},
   "outputs": [
    {
     "data": {
      "text/html": [
       "<div>\n",
       "<style scoped>\n",
       "    .dataframe tbody tr th:only-of-type {\n",
       "        vertical-align: middle;\n",
       "    }\n",
       "\n",
       "    .dataframe tbody tr th {\n",
       "        vertical-align: top;\n",
       "    }\n",
       "\n",
       "    .dataframe thead th {\n",
       "        text-align: right;\n",
       "    }\n",
       "</style>\n",
       "<table border=\"1\" class=\"dataframe\">\n",
       "  <thead>\n",
       "    <tr style=\"text-align: right;\">\n",
       "      <th></th>\n",
       "      <th>id</th>\n",
       "      <th>name</th>\n",
       "      <th>screen_name</th>\n",
       "      <th>followers_count</th>\n",
       "    </tr>\n",
       "  </thead>\n",
       "  <tbody>\n",
       "    <tr>\n",
       "      <th>0</th>\n",
       "      <td>767</td>\n",
       "      <td>Xeni Jardin 😷🏠</td>\n",
       "      <td>xeni</td>\n",
       "      <td>152608</td>\n",
       "    </tr>\n",
       "    <tr>\n",
       "      <th>1</th>\n",
       "      <td>5039</td>\n",
       "      <td>Jrome</td>\n",
       "      <td>jrome</td>\n",
       "      <td>642</td>\n",
       "    </tr>\n",
       "    <tr>\n",
       "      <th>2</th>\n",
       "      <td>5242</td>\n",
       "      <td>Ahmed Al Omran</td>\n",
       "      <td>ahmed</td>\n",
       "      <td>149844</td>\n",
       "    </tr>\n",
       "    <tr>\n",
       "      <th>3</th>\n",
       "      <td>11364</td>\n",
       "      <td>Kirti</td>\n",
       "      <td>Kits</td>\n",
       "      <td>922</td>\n",
       "    </tr>\n",
       "    <tr>\n",
       "      <th>4</th>\n",
       "      <td>12094</td>\n",
       "      <td>Nicholai Reinseth</td>\n",
       "      <td>Nicholai</td>\n",
       "      <td>277</td>\n",
       "    </tr>\n",
       "  </tbody>\n",
       "</table>\n",
       "</div>"
      ],
      "text/plain": [
       "      id               name screen_name  followers_count\n",
       "0    767     Xeni Jardin 😷🏠        xeni           152608\n",
       "1   5039              Jrome       jrome              642\n",
       "2   5242     Ahmed Al Omran       ahmed           149844\n",
       "3  11364              Kirti        Kits              922\n",
       "4  12094  Nicholai Reinseth    Nicholai              277"
      ]
     },
     "execution_count": 85,
     "metadata": {},
     "output_type": "execute_result"
    }
   ],
   "source": [
    "#Present some of the users as in a dataframe\n",
    "import pandas as pd\n",
    "\n",
    "connection1 = mysql.connector.connect(host=\"localhost\", user=\"root\", password=\"gXt,:RsU#U-ws:3\",database=\"new_database\")\n",
    "\n",
    "cursor = connection1.cursor()\n",
    "\n",
    "cursor.execute(\"USE new_database\")\n",
    "\n",
    "cursor.execute(\"SELECT * FROM users_table LIMIT 5\")\n",
    "\n",
    "result = cursor.fetchall()\n",
    "\n",
    "df = pd.DataFrame(result, columns=['id', 'name', 'screen_name', 'followers_count'])\n",
    "\n",
    "df"
   ]
  },
  {
   "cell_type": "code",
   "execution_count": 91,
   "id": "3d94f2a7",
   "metadata": {},
   "outputs": [
    {
     "data": {
      "text/html": [
       "<div>\n",
       "<style scoped>\n",
       "    .dataframe tbody tr th:only-of-type {\n",
       "        vertical-align: middle;\n",
       "    }\n",
       "\n",
       "    .dataframe tbody tr th {\n",
       "        vertical-align: top;\n",
       "    }\n",
       "\n",
       "    .dataframe thead th {\n",
       "        text-align: right;\n",
       "    }\n",
       "</style>\n",
       "<table border=\"1\" class=\"dataframe\">\n",
       "  <thead>\n",
       "    <tr style=\"text-align: right;\">\n",
       "      <th></th>\n",
       "      <th>id</th>\n",
       "      <th>name</th>\n",
       "      <th>screen_name</th>\n",
       "      <th>followers_count</th>\n",
       "    </tr>\n",
       "  </thead>\n",
       "  <tbody>\n",
       "    <tr>\n",
       "      <th>0</th>\n",
       "      <td>69183155</td>\n",
       "      <td>detikcom</td>\n",
       "      <td>detikcom</td>\n",
       "      <td>15927642</td>\n",
       "    </tr>\n",
       "    <tr>\n",
       "      <th>1</th>\n",
       "      <td>62513246</td>\n",
       "      <td>J.K. Rowling</td>\n",
       "      <td>jk_rowling</td>\n",
       "      <td>14608046</td>\n",
       "    </tr>\n",
       "    <tr>\n",
       "      <th>2</th>\n",
       "      <td>42606652</td>\n",
       "      <td>AajTak</td>\n",
       "      <td>aajtak</td>\n",
       "      <td>9704885</td>\n",
       "    </tr>\n",
       "    <tr>\n",
       "      <th>3</th>\n",
       "      <td>39240673</td>\n",
       "      <td>ABP News</td>\n",
       "      <td>ABPNews</td>\n",
       "      <td>9562582</td>\n",
       "    </tr>\n",
       "    <tr>\n",
       "      <th>4</th>\n",
       "      <td>240649814</td>\n",
       "      <td>TIMES NOW</td>\n",
       "      <td>TimesNow</td>\n",
       "      <td>9499328</td>\n",
       "    </tr>\n",
       "    <tr>\n",
       "      <th>5</th>\n",
       "      <td>56304605</td>\n",
       "      <td>Rajdeep Sardesai</td>\n",
       "      <td>sardesairajdeep</td>\n",
       "      <td>8947342</td>\n",
       "    </tr>\n",
       "    <tr>\n",
       "      <th>6</th>\n",
       "      <td>24744541</td>\n",
       "      <td>Le Monde</td>\n",
       "      <td>lemondefr</td>\n",
       "      <td>8808784</td>\n",
       "    </tr>\n",
       "    <tr>\n",
       "      <th>7</th>\n",
       "      <td>55507370</td>\n",
       "      <td>tvOneNews</td>\n",
       "      <td>tvOneNews</td>\n",
       "      <td>8787649</td>\n",
       "    </tr>\n",
       "    <tr>\n",
       "      <th>8</th>\n",
       "      <td>23343960</td>\n",
       "      <td>Kompas.com</td>\n",
       "      <td>kompascom</td>\n",
       "      <td>7678178</td>\n",
       "    </tr>\n",
       "    <tr>\n",
       "      <th>9</th>\n",
       "      <td>15016209</td>\n",
       "      <td>NTV</td>\n",
       "      <td>ntv</td>\n",
       "      <td>7429223</td>\n",
       "    </tr>\n",
       "  </tbody>\n",
       "</table>\n",
       "</div>"
      ],
      "text/plain": [
       "          id              name      screen_name  followers_count\n",
       "0   69183155          detikcom         detikcom         15927642\n",
       "1   62513246      J.K. Rowling       jk_rowling         14608046\n",
       "2   42606652            AajTak           aajtak          9704885\n",
       "3   39240673          ABP News          ABPNews          9562582\n",
       "4  240649814         TIMES NOW         TimesNow          9499328\n",
       "5   56304605  Rajdeep Sardesai  sardesairajdeep          8947342\n",
       "6   24744541          Le Monde        lemondefr          8808784\n",
       "7   55507370         tvOneNews        tvOneNews          8787649\n",
       "8   23343960        Kompas.com        kompascom          7678178\n",
       "9   15016209               NTV              ntv          7429223"
      ]
     },
     "execution_count": 91,
     "metadata": {},
     "output_type": "execute_result"
    }
   ],
   "source": [
    "#Prints top 10 users based on followers_count\n",
    "\n",
    "connection1 = mysql.connector.connect(\n",
    "    host=\"localhost\",\n",
    "    user=\"root\",\n",
    "    password=\"gXt,:RsU#U-ws:3\",\n",
    "    database=\"new_database\"\n",
    ")\n",
    "cursor = connection1.cursor()\n",
    "cursor.execute(\"USE new_database\")\n",
    "\n",
    "cursor.execute(\"SELECT * FROM users_table ORDER BY followers_count DESC LIMIT 10\")\n",
    "\n",
    "result = cursor.fetchall()\n",
    "\n",
    "df = pd.DataFrame(result, columns=['id', 'name', 'screen_name', 'followers_count'])\n",
    "\n",
    "df"
   ]
  },
  {
   "cell_type": "code",
   "execution_count": 87,
   "id": "aa8f35b1",
   "metadata": {},
   "outputs": [
    {
     "name": "stdout",
     "output_type": "stream",
     "text": [
      "Number of users in the table: 80943\n"
     ]
    }
   ],
   "source": [
    "#print number of users (likely to be incorrect. Need to verify. Number is 80943): \n",
    "connection1 = mysql.connector.connect(host=\"localhost\", user=\"root\", password=\"gXt,:RsU#U-ws:3\",database=\"new_database\")\n",
    "\n",
    "cursor = connection1.cursor()\n",
    "\n",
    "# select the database\n",
    "cursor.execute(\"USE new_database\")\n",
    "\n",
    "# execute the SQL command to count the number of rows in the table\n",
    "cursor.execute(\"SELECT COUNT(*) FROM users_table\")\n",
    "\n",
    "# fetch the result\n",
    "result = cursor.fetchone()\n",
    "\n",
    "# print the number of users\n",
    "print(\"Number of users in the table:\", result[0])\n",
    "\n",
    "# close the cursor and connection\n",
    "cursor.close()\n",
    "connection1.close()"
   ]
  },
  {
   "cell_type": "code",
   "execution_count": 88,
   "id": "ebcfb5ee",
   "metadata": {},
   "outputs": [
    {
     "name": "stdout",
     "output_type": "stream",
     "text": [
      "Number of unique users: 80943\n"
     ]
    }
   ],
   "source": [
    "#Directly from file\n",
    "\n",
    "import json\n",
    "with open('/Users/mazinrafi/Downloads/corona-out-3.json') as f:\n",
    "    file_data = json.load(f)\n",
    "\n",
    "unique_users = set()\n",
    "\n",
    "for i in file_data:\n",
    "    unique_users.add(i['user']['id'])\n",
    "\n",
    "num_unique_users = len(unique_users)\n",
    "print(\"Number of unique users:\", num_unique_users)"
   ]
  },
  {
   "cell_type": "code",
   "execution_count": 111,
   "id": "7a4c56f3",
   "metadata": {},
   "outputs": [
    {
     "data": {
      "text/plain": [
       "80943"
      ]
     },
     "execution_count": 111,
     "metadata": {},
     "output_type": "execute_result"
    }
   ],
   "source": [
    "len(users)"
   ]
  },
  {
   "cell_type": "code",
   "execution_count": null,
   "id": "484e9b2b",
   "metadata": {},
   "outputs": [],
   "source": [
    "#For testing purposes if needed. Do not run the cell\n",
    "\n",
    "#Drop DB. May need to adjust the connection accordingly. \n",
    "connection1 = mysql.connector.connect(host=\"localhost\", user=\"root\", password=\"gXt,:RsU#U-ws:3\",database=\"new_database\")\n",
    "cursor = connection1.cursor()\n",
    "sql= \"DROP DATABASE my_database\"\n",
    "cursor.execute(sql)\n"
   ]
  },
  {
   "cell_type": "code",
   "execution_count": 58,
   "id": "658849c3",
   "metadata": {},
   "outputs": [],
   "source": [
    "\n",
    "#Drop Table\n",
    "connection1 = mysql.connector.connect(host=\"localhost\", user=\"root\", password=\"gXt,:RsU#U-ws:3\",database=\"new_database\")\n",
    "cursor = connection1.cursor()\n",
    "sql= \"DROP TABLE users\"\n",
    "cursor.execute(sql)\n",
    "\n",
    "#Test to see if your connection works: \n",
    "\n",
    "import mysql.connector\n",
    "import json\n",
    "\n",
    "try:\n",
    "    connection1 = mysql.connector.connect(host=\"localhost\", user=\"root\", password=\"gXt,:RsU#U-ws:3\",database=\"corona_out_2_db\")\n",
    "    print(\"Connected to MySQL server and database.\")\n",
    "except mysql.connector.Error as error:\n",
    "    print(\"Failed to connect to MySQL server: {}\".format(error))"
   ]
  },
  {
   "cell_type": "code",
   "execution_count": 109,
   "id": "171a86e9",
   "metadata": {},
   "outputs": [],
   "source": [
    "#Side Notes\n",
    "\n",
    "#need to keep the Python\n",
    "#JSON Import Utility\n",
    "#Primary Key needed\n",
    "#Database needed and ID\n",
    "# create a new database. This database is called \"new_database\"\n"
   ]
  },
  {
   "cell_type": "code",
   "execution_count": null,
   "id": "c5b3acdc",
   "metadata": {},
   "outputs": [],
   "source": []
  }
 ],
 "metadata": {
  "kernelspec": {
   "display_name": "Python 3 (ipykernel)",
   "language": "python",
   "name": "python3"
  },
  "language_info": {
   "codemirror_mode": {
    "name": "ipython",
    "version": 3
   },
   "file_extension": ".py",
   "mimetype": "text/x-python",
   "name": "python",
   "nbconvert_exporter": "python",
   "pygments_lexer": "ipython3",
   "version": "3.10.8"
  }
 },
 "nbformat": 4,
 "nbformat_minor": 5
}
