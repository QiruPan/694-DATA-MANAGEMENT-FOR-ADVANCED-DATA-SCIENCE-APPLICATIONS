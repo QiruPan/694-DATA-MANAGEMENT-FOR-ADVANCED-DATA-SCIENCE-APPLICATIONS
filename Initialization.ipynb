{
 "cells": [
  {
   "cell_type": "code",
   "execution_count": 2,
   "id": "a3544981",
   "metadata": {},
   "outputs": [
    {
     "name": "stdout",
     "output_type": "stream",
     "text": [
      "Requirement already satisfied: pymongo in ./miniconda3/lib/python3.10/site-packages (4.3.3)\r\n",
      "Requirement already satisfied: dnspython<3.0.0,>=1.16.0 in ./miniconda3/lib/python3.10/site-packages (from pymongo) (2.3.0)\r\n"
     ]
    }
   ],
   "source": [
    "!pip install pymongo\n",
    "!pip install scikit-learn\n",
    "!pip install nltk\n",
    "import nltk\n",
    "#nltk.download('stopwords')\n",
    "from pymongo import MongoClient\n",
    "import pymongo"
   ]
  },
  {
   "cell_type": "code",
   "execution_count": 9,
   "id": "7e389cf4",
   "metadata": {},
   "outputs": [],
   "source": [
    "import json\n",
    "from sklearn.feature_extraction.text import CountVectorizer\n",
    "from nltk.corpus import stopwords\n",
    "import numpy as np\n",
    "\n",
    "f = open('/Users/mazinrafi/Downloads/corona-out-3', 'r')\n",
    "\n",
    "tweets = {}\n",
    "retweets = {}\n",
    "replies ={}\n",
    "texts = {}\n",
    "users = {}\n",
    "hashtags = {}\n",
    "\n",
    "# The specific keys to extract for tweets and users\n",
    "tweet_keys = ['created_at', 'id_str', 'reply_count', 'retweet_count']\n",
    "user_keys = ['name', 'screen_name', 'verified', 'followers_count', 'friends_count', 'created_at']\n",
    "\n",
    "# Iterating over the input file\n",
    "for line in f:\n",
    "    if line == '\\n':\n",
    "        continue\n",
    "    lx = json.loads(line)\n",
    "    \n",
    "    # Main extraction only for non-retweets\n",
    "    if not 'retweeted_status' in lx or len(lx['retweeted_status']) == 0:\n",
    "        li = dict((k, lx[k]) for k in tweet_keys if k in lx)\n",
    "        # Store user ID and user screen name\n",
    "        li['user'] = lx['user']['id']\n",
    "        li['user_name'] = lx['user']['screen_name']\n",
    "        \n",
    "        # In some cases, text is truncated - here, extended_tweet full_text will contain the full version\n",
    "        # If available, we use that, else the main text field is not truncated so we can use it\n",
    "        if 'extended_tweet' in lx:    \n",
    "            thisText = lx['extended_tweet']['full_text']\n",
    "        else:\n",
    "            thisText = lx['text']\n",
    "        \n",
    "        # Store the text (from whichever source) in both the tweet and the data source for keyword extraction\n",
    "        li['text'] = thisText\n",
    "        texts[lx['id']] = thisText\n",
    "        \n",
    "        # Identify hashtags using regex\n",
    "        # The hashtags under entities are built from the main text field, which may have been truncated\n",
    "        # So that subfield may be inaccurate\n",
    "        hashtag_set = list(set(part[1:] for part in thisText.split() if part.startswith('#')))\n",
    "        li['hashtags'] = hashtag_set\n",
    "        li['hashtag_count'] = len(hashtag_set)\n",
    "        \n",
    "        # Track tweet IDs by hashtag, for later mapping\n",
    "        for hashtag in hashtag_set:\n",
    "            if hashtag in hashtags.keys():\n",
    "                hashtags[hashtag].append(lx['id'])\n",
    "            else:\n",
    "                hashtags[hashtag] = [lx['id']]\n",
    "        \n",
    "        # Store this set of tweet details under this tweet ID\n",
    "        li['_id'] = lx['id']\n",
    "        \n",
    "        tweets[lx['id']] = li\n",
    "        \n",
    "        # Track replies against their original tweets\n",
    "        if 'in_reply_to_status_id' in lx:\n",
    "            if not lx['in_reply_to_status_id'] in replies.keys():\n",
    "                replies[lx['in_reply_to_status_id']] = 1\n",
    "            else:\n",
    "                replies[lx['in_reply_to_status_id']] = replies[lx['in_reply_to_status_id']] + 1\n",
    "    else:\n",
    "        # If a retweet, track against the original tweet\n",
    "        orig_id = lx['retweeted_status']['id']\n",
    "        \n",
    "        if not orig_id in retweets.keys():\n",
    "            retweets[orig_id] = 1\n",
    "        else:\n",
    "            retweets[orig_id] = retweets[orig_id] + 1\n",
    "    \n",
    "    # If this user has not been seen before, add their details into the user list\n",
    "    if not lx['user']['id'] in users.keys():\n",
    "        users[lx['user']['id']] = dict((k, lx['user'][k]) for k in user_keys if k in lx['user'])\n",
    "\n",
    "f.close()\n",
    "\n",
    "# Map retweets and replies to their original tweets, with counts\n",
    "for rt in retweets.keys():\n",
    "    if rt in tweets.keys():\n",
    "        tweets[rt]['retweet_count'] = retweets[rt]\n",
    "\n",
    "for rt in replies.keys():\n",
    "    if rt in tweets.keys():\n",
    "        tweets[rt]['reply_count'] = replies[rt]\n",
    "\n",
    "\n",
    "# Extract unigrams, removing stopwords, for all keywords that appear at least 50 times\n",
    "vectorizer = CountVectorizer(token_pattern=r\"(?u)\\b[a-z][a-z]+\\b\", stop_words=stopwords.words('english'), min_df = 50)\n",
    "\n",
    "X = vectorizer.fit_transform(texts.values())\n",
    "\n",
    "# The list of IDs and keywords used in the vectorizer\n",
    "key_list = [*texts.keys()]\n",
    "word_list = [*vectorizer.get_feature_names_out()]\n",
    "\n",
    "# Track the number of keywords mapped to each ID, and store the count with the tweet details\n",
    "x1 = X.toarray()\n",
    "\n",
    "x2 = dict((key_list[w], len([word_list[t] for t in np.where(x1[w]>0)[0]])) for w in range(len(x1)))\n",
    "\n",
    "for key_id in x2.keys():\n",
    "    if key_id in tweets.keys():\n",
    "        tweets[key_id]['keyword_count'] = x2[key_id]\n",
    "\n",
    "# Track the IDs associated with each keyword, and store the mapping\n",
    "X = np.transpose(X)\n",
    "\n",
    "x1 = X.toarray()\n",
    "\n",
    "x2 = dict((word_list[w], [key_list[t] for t in np.where(x1[w]>0)[0]]) for w in range(len(x1)))\n",
    "\n",
    "\n",
    "with open(\"/Users/mazinrafi/Downloads/hashtag_tdm.json\", \"w\") as outfile:\n",
    "    json.dump(hashtags, outfile, indent=2)\n",
    "\n",
    "    \n",
    "keywords = dict((k, {'_id': k, 'tweets': v}) for k, v in x2.items())\n",
    "\n",
    "hashtags = dict((k, {'_id': k, 'tweets': v}) for k, v in hashtags.items())\n",
    "\n",
    "\n",
    "# upload tweets, keywords to mongodb, users to mysql\n",
    "\n",
    "# s1 = [sum(i>0) for i in x1]\n",
    "\n",
    "# s1 = [np.log(i) for i in s1]\n",
    "\n",
    "# from matplotlib import pyplot as plt\n",
    "\n",
    "# fig, ax = plt.subplots(figsize =(10, 7))\n",
    "# ax.hist(s1)\n"
   ]
  },
  {
   "cell_type": "code",
   "execution_count": 10,
   "id": "6fa07897",
   "metadata": {},
   "outputs": [],
   "source": [
    "client = MongoClient(\"mongodb://localhost:27017/\")\n",
    "\n",
    "db = client['TwitterDB']\n",
    "collection = db['tweets']\n",
    "\n",
    "# Insert tweets into collection\n",
    "#set the id of the tweet to the id_str\n",
    "for tweet_id, tweet_data in tweets.items():\n",
    "    collection.insert_one(tweet_data)\n",
    "    \n"
   ]
  },
  {
   "cell_type": "code",
   "execution_count": 62,
   "id": "1f5c46b4",
   "metadata": {},
   "outputs": [
    {
     "data": {
      "text/plain": [
       "40804"
      ]
     },
     "execution_count": 62,
     "metadata": {},
     "output_type": "execute_result"
    }
   ],
   "source": [
    "len(tweets)"
   ]
  },
  {
   "cell_type": "code",
   "execution_count": 14,
   "id": "7542d54f",
   "metadata": {},
   "outputs": [],
   "source": [
    "client = MongoClient(\"mongodb://localhost:27017/\")\n",
    "\n",
    "# Create a new database\n",
    "db = client[\"TwitterDB\"]\n",
    "\n",
    "# Create a new collection\n",
    "collection = db[\"keywords\"]\n",
    "\n",
    "\n",
    "# Insert the data into the collection\n",
    "for word_id, word_data in keywords.items():\n",
    "    collection.insert_one(word_data)\n"
   ]
  },
  {
   "cell_type": "code",
   "execution_count": 17,
   "id": "ef623e03",
   "metadata": {},
   "outputs": [
    {
     "data": {
      "text/plain": [
       "1453"
      ]
     },
     "execution_count": 17,
     "metadata": {},
     "output_type": "execute_result"
    }
   ],
   "source": [
    "len(keywords)"
   ]
  },
  {
   "cell_type": "code",
   "execution_count": 15,
   "id": "1423ee33",
   "metadata": {},
   "outputs": [],
   "source": [
    "#Upload the Hashtag json onto the server\n",
    "\n",
    "client = MongoClient(\"mongodb://localhost:27017/\")\n",
    "\n",
    "# Create a new database\n",
    "db = client[\"TwitterDB\"]\n",
    "\n",
    "# Create a new collection\n",
    "collection = db[\"hashtags\"]\n",
    "\n",
    "# Insert the data into the collection\n",
    "for word_id, word_data in hashtags.items():\n",
    "    collection.insert_one(word_data)\n"
   ]
  },
  {
   "cell_type": "code",
   "execution_count": 18,
   "id": "e6383983",
   "metadata": {},
   "outputs": [
    {
     "data": {
      "text/plain": [
       "11334"
      ]
     },
     "execution_count": 18,
     "metadata": {},
     "output_type": "execute_result"
    }
   ],
   "source": [
    "len(hashtags)"
   ]
  },
  {
   "cell_type": "code",
   "execution_count": 32,
   "id": "d0847dda",
   "metadata": {},
   "outputs": [
    {
     "name": "stdout",
     "output_type": "stream",
     "text": [
      "Requirement already satisfied: mysql-connector-python in ./miniconda3/lib/python3.10/site-packages (8.0.32)\n",
      "Requirement already satisfied: protobuf<=3.20.3,>=3.11.0 in ./miniconda3/lib/python3.10/site-packages (from mysql-connector-python) (3.20.3)\n",
      "Requirement already satisfied: pytz in ./miniconda3/lib/python3.10/site-packages (2022.7.1)\n"
     ]
    }
   ],
   "source": [
    "##Inserting the Users into MySQL \n",
    "\n",
    "!pip install mysql-connector-python\n",
    "!pip install pytz\n",
    "from mysql.connector import (connection)\n",
    "import json\n",
    "import mysql.connector"
   ]
  },
  {
   "cell_type": "code",
   "execution_count": 43,
   "id": "c500ed31",
   "metadata": {},
   "outputs": [
    {
     "name": "stdout",
     "output_type": "stream",
     "text": [
      "Connected to MySQL server.\n"
     ]
    }
   ],
   "source": [
    "#You can download MySQL here: https://dev.mysql.com/downloads/installer/\n",
    "#Connect to SQL database \"localhost\" after installing it.\n",
    "#Note that the user and password must be defined during installation and re-used here.\n",
    "#the user is \"root\" and the password is \"gXt,:RsU#U-ws:3\"\n",
    "import mysql.connector\n",
    "\n",
    "try:\n",
    "    connection1 = mysql.connector.connect(host=\"localhost\", user=\"root\", password=\"gXt,:RsU#U-ws:3\")\n",
    "    print(\"Connected to MySQL server.\")\n",
    "except mysql.connector.Error as error:\n",
    "    print(\"Failed to connect to MySQL server: {}\".format(error))\n"
   ]
  },
  {
   "cell_type": "code",
   "execution_count": 44,
   "id": "d3433c72",
   "metadata": {},
   "outputs": [
    {
     "name": "stdout",
     "output_type": "stream",
     "text": [
      "Database created successfully!\n"
     ]
    }
   ],
   "source": [
    "# create a new database. This database is called \"new_database\"\n",
    "\n",
    "connection1 = mysql.connector.connect(host=\"localhost\", user=\"root\", password=\"gXt,:RsU#U-ws:3\")\n",
    "cursor = connection1.cursor()\n",
    "cursor.execute(\"DROP DATABASE IF EXISTS new_database\")\n",
    "cursor.execute(\"CREATE DATABASE new_database\")\n",
    "print(\"Database created successfully!\")\n"
   ]
  },
  {
   "cell_type": "code",
   "execution_count": 45,
   "id": "152c609b",
   "metadata": {},
   "outputs": [
    {
     "name": "stdout",
     "output_type": "stream",
     "text": [
      "Table created successfully!\n"
     ]
    }
   ],
   "source": [
    "#create a new table. This one is called users_table and deletes any pre-existing ones. \n",
    "from datetime import datetime\n",
    "\n",
    "connection1 = mysql.connector.connect(host=\"localhost\", user=\"root\", password=\"gXt,:RsU#U-ws:3\",database=\"new_database\")\n",
    "cursor = connection1.cursor()\n",
    "\n",
    "cursor.execute(\"DROP TABLE IF EXISTS users_table\")\n",
    "cursor.execute(\"\"\"CREATE TABLE users_table (\n",
    "    id BIGINT PRIMARY KEY,\n",
    "    name VARCHAR(255),\n",
    "    screen_name VARCHAR(255),\n",
    "    followers_count INT,\n",
    "    verified BOOLEAN,\n",
    "    created_at DATETIME\n",
    ")\"\"\")\n",
    "\n",
    "print(\"Table created successfully!\")"
   ]
  },
  {
   "cell_type": "code",
   "execution_count": 49,
   "id": "22373ea4",
   "metadata": {},
   "outputs": [
    {
     "name": "stdout",
     "output_type": "stream",
     "text": [
      "Users inserted successfully!\n"
     ]
    }
   ],
   "source": [
    "from datetime import datetime, timezone\n",
    "#Insert the users into the Table\n",
    "connection1 = mysql.connector.connect(\n",
    "    host=\"localhost\",\n",
    "    user=\"root\",\n",
    "    password=\"gXt,:RsU#U-ws:3\",\n",
    "    database=\"new_database\"\n",
    ")\n",
    "cursor = connection1.cursor()\n",
    "\n",
    "used = set()\n",
    "\n",
    "\n",
    "for user_id in users:\n",
    "    if user_id in used:\n",
    "        continue\n",
    "    user_data = users[user_id]\n",
    "    if 'created_at' not in user_data:\n",
    "        continue\n",
    "    created_at_str = user_data['created_at'][:-11] + user_data['created_at'][-5:] #(-5 extracts year, -11 extracts time)\n",
    "    created_at = datetime.strptime(created_at_str, '%a %b %d %H:%M:%S %Y') #a is weekday, b is month, d is day of month, HMS, and Year\n",
    "    created_at = created_at.replace(tzinfo=timezone.utc) #timezone imported from datetime module\n",
    "    created_at_str = created_at.strftime('%Y-%m-%d %H:%M:%S') #converts to \"YYYY-MM-DD HH:MM:SS\" format\n",
    "    sql = \"INSERT INTO users_table (id, name, screen_name, followers_count, verified, created_at) VALUES (%s, %s, %s, %s, %s, %s)\"\n",
    "    values = (user_id, user_data['name'], user_data['screen_name'], user_data['followers_count'], user_data['verified'], created_at_str)\n",
    "    cursor.execute(sql, values)\n",
    "    connection1.commit()\n",
    "    used.add(user_id)\n",
    "    \n",
    "print(\"Users inserted successfully!\")\n"
   ]
  },
  {
   "cell_type": "code",
   "execution_count": 35,
   "id": "ebac45b0",
   "metadata": {},
   "outputs": [
    {
     "data": {
      "text/html": [
       "<div>\n",
       "<style scoped>\n",
       "    .dataframe tbody tr th:only-of-type {\n",
       "        vertical-align: middle;\n",
       "    }\n",
       "\n",
       "    .dataframe tbody tr th {\n",
       "        vertical-align: top;\n",
       "    }\n",
       "\n",
       "    .dataframe thead th {\n",
       "        text-align: right;\n",
       "    }\n",
       "</style>\n",
       "<table border=\"1\" class=\"dataframe\">\n",
       "  <thead>\n",
       "    <tr style=\"text-align: right;\">\n",
       "      <th></th>\n",
       "      <th>id</th>\n",
       "      <th>name</th>\n",
       "      <th>screen_name</th>\n",
       "      <th>followers_count</th>\n",
       "    </tr>\n",
       "  </thead>\n",
       "  <tbody>\n",
       "    <tr>\n",
       "      <th>0</th>\n",
       "      <td>767</td>\n",
       "      <td>Xeni Jardin 😷🏠</td>\n",
       "      <td>xeni</td>\n",
       "      <td>152608</td>\n",
       "    </tr>\n",
       "    <tr>\n",
       "      <th>1</th>\n",
       "      <td>5039</td>\n",
       "      <td>Jrome</td>\n",
       "      <td>jrome</td>\n",
       "      <td>642</td>\n",
       "    </tr>\n",
       "    <tr>\n",
       "      <th>2</th>\n",
       "      <td>5242</td>\n",
       "      <td>Ahmed Al Omran</td>\n",
       "      <td>ahmed</td>\n",
       "      <td>149844</td>\n",
       "    </tr>\n",
       "    <tr>\n",
       "      <th>3</th>\n",
       "      <td>11364</td>\n",
       "      <td>Kirti</td>\n",
       "      <td>Kits</td>\n",
       "      <td>922</td>\n",
       "    </tr>\n",
       "    <tr>\n",
       "      <th>4</th>\n",
       "      <td>12094</td>\n",
       "      <td>Nicholai Reinseth</td>\n",
       "      <td>Nicholai</td>\n",
       "      <td>277</td>\n",
       "    </tr>\n",
       "  </tbody>\n",
       "</table>\n",
       "</div>"
      ],
      "text/plain": [
       "      id               name screen_name  followers_count\n",
       "0    767     Xeni Jardin 😷🏠        xeni           152608\n",
       "1   5039              Jrome       jrome              642\n",
       "2   5242     Ahmed Al Omran       ahmed           149844\n",
       "3  11364              Kirti        Kits              922\n",
       "4  12094  Nicholai Reinseth    Nicholai              277"
      ]
     },
     "execution_count": 35,
     "metadata": {},
     "output_type": "execute_result"
    }
   ],
   "source": [
    "#Present some of the users as in a dataframe\n",
    "import pandas as pd\n",
    "\n",
    "connection1 = mysql.connector.connect(host=\"localhost\", user=\"root\", password=\"gXt,:RsU#U-ws:3\",database=\"new_database\")\n",
    "\n",
    "cursor = connection1.cursor()\n",
    "\n",
    "cursor.execute(\"USE new_database\")\n",
    "\n",
    "cursor.execute(\"\"\"\n",
    "    SELECT id, name, screen_name, followers_count \n",
    "    FROM users_table \n",
    "    LIMIT 5\n",
    "    \"\"\")\n",
    "\n",
    "result = cursor.fetchall()\n",
    "\n",
    "df = pd.DataFrame(result, columns=['id', 'name', 'screen_name', 'followers_count'])\n",
    "\n",
    "df"
   ]
  },
  {
   "cell_type": "code",
   "execution_count": 52,
   "id": "3d94f2a7",
   "metadata": {},
   "outputs": [
    {
     "data": {
      "text/html": [
       "<div>\n",
       "<style scoped>\n",
       "    .dataframe tbody tr th:only-of-type {\n",
       "        vertical-align: middle;\n",
       "    }\n",
       "\n",
       "    .dataframe tbody tr th {\n",
       "        vertical-align: top;\n",
       "    }\n",
       "\n",
       "    .dataframe thead th {\n",
       "        text-align: right;\n",
       "    }\n",
       "</style>\n",
       "<table border=\"1\" class=\"dataframe\">\n",
       "  <thead>\n",
       "    <tr style=\"text-align: right;\">\n",
       "      <th></th>\n",
       "      <th>id</th>\n",
       "      <th>name</th>\n",
       "      <th>screen_name</th>\n",
       "      <th>followers_count</th>\n",
       "    </tr>\n",
       "  </thead>\n",
       "  <tbody>\n",
       "    <tr>\n",
       "      <th>0</th>\n",
       "      <td>69183155</td>\n",
       "      <td>detikcom</td>\n",
       "      <td>detikcom</td>\n",
       "      <td>15927642</td>\n",
       "    </tr>\n",
       "    <tr>\n",
       "      <th>1</th>\n",
       "      <td>62513246</td>\n",
       "      <td>J.K. Rowling</td>\n",
       "      <td>jk_rowling</td>\n",
       "      <td>14608046</td>\n",
       "    </tr>\n",
       "    <tr>\n",
       "      <th>2</th>\n",
       "      <td>42606652</td>\n",
       "      <td>AajTak</td>\n",
       "      <td>aajtak</td>\n",
       "      <td>9704885</td>\n",
       "    </tr>\n",
       "    <tr>\n",
       "      <th>3</th>\n",
       "      <td>39240673</td>\n",
       "      <td>ABP News</td>\n",
       "      <td>ABPNews</td>\n",
       "      <td>9562582</td>\n",
       "    </tr>\n",
       "    <tr>\n",
       "      <th>4</th>\n",
       "      <td>240649814</td>\n",
       "      <td>TIMES NOW</td>\n",
       "      <td>TimesNow</td>\n",
       "      <td>9499328</td>\n",
       "    </tr>\n",
       "    <tr>\n",
       "      <th>5</th>\n",
       "      <td>56304605</td>\n",
       "      <td>Rajdeep Sardesai</td>\n",
       "      <td>sardesairajdeep</td>\n",
       "      <td>8947342</td>\n",
       "    </tr>\n",
       "    <tr>\n",
       "      <th>6</th>\n",
       "      <td>24744541</td>\n",
       "      <td>Le Monde</td>\n",
       "      <td>lemondefr</td>\n",
       "      <td>8808784</td>\n",
       "    </tr>\n",
       "    <tr>\n",
       "      <th>7</th>\n",
       "      <td>55507370</td>\n",
       "      <td>tvOneNews</td>\n",
       "      <td>tvOneNews</td>\n",
       "      <td>8787649</td>\n",
       "    </tr>\n",
       "    <tr>\n",
       "      <th>8</th>\n",
       "      <td>23343960</td>\n",
       "      <td>Kompas.com</td>\n",
       "      <td>kompascom</td>\n",
       "      <td>7678178</td>\n",
       "    </tr>\n",
       "    <tr>\n",
       "      <th>9</th>\n",
       "      <td>15016209</td>\n",
       "      <td>NTV</td>\n",
       "      <td>ntv</td>\n",
       "      <td>7429223</td>\n",
       "    </tr>\n",
       "  </tbody>\n",
       "</table>\n",
       "</div>"
      ],
      "text/plain": [
       "          id              name      screen_name  followers_count\n",
       "0   69183155          detikcom         detikcom         15927642\n",
       "1   62513246      J.K. Rowling       jk_rowling         14608046\n",
       "2   42606652            AajTak           aajtak          9704885\n",
       "3   39240673          ABP News          ABPNews          9562582\n",
       "4  240649814         TIMES NOW         TimesNow          9499328\n",
       "5   56304605  Rajdeep Sardesai  sardesairajdeep          8947342\n",
       "6   24744541          Le Monde        lemondefr          8808784\n",
       "7   55507370         tvOneNews        tvOneNews          8787649\n",
       "8   23343960        Kompas.com        kompascom          7678178\n",
       "9   15016209               NTV              ntv          7429223"
      ]
     },
     "execution_count": 52,
     "metadata": {},
     "output_type": "execute_result"
    }
   ],
   "source": [
    "#Prints top 10 users based on followers_count\n",
    "\n",
    "connection1 = mysql.connector.connect(\n",
    "    host=\"localhost\",\n",
    "    user=\"root\",\n",
    "    password=\"gXt,:RsU#U-ws:3\",\n",
    "    database=\"new_database\"\n",
    ")\n",
    "cursor = connection1.cursor()\n",
    "cursor.execute(\"USE new_database\")\n",
    "\n",
    "cursor.execute(\"\"\"\n",
    "    SELECT id, name, screen_name, followers_count \n",
    "    FROM users_table \n",
    "    ORDER BY followers_count DESC \n",
    "    LIMIT 10\n",
    "\"\"\")\n",
    "\n",
    "result = cursor.fetchall()\n",
    "\n",
    "df = pd.DataFrame(result, columns=['id', 'name', 'screen_name', 'followers_count'])\n",
    "\n",
    "df"
   ]
  },
  {
   "cell_type": "code",
   "execution_count": 37,
   "id": "aa8f35b1",
   "metadata": {},
   "outputs": [
    {
     "name": "stdout",
     "output_type": "stream",
     "text": [
      "Number of users in the table: 80943\n"
     ]
    }
   ],
   "source": [
    "#print number of users (likely to be incorrect. Need to verify. Number is 80943): \n",
    "connection1 = mysql.connector.connect(host=\"localhost\", user=\"root\", password=\"gXt,:RsU#U-ws:3\",database=\"new_database\")\n",
    "\n",
    "cursor = connection1.cursor()\n",
    "cursor.execute(\"USE new_database\")\n",
    "cursor.execute(\"SELECT COUNT(*) FROM users_table\")\n",
    "result = cursor.fetchone()\n",
    "print(\"Number of users in the table:\", result[0])\n",
    "\n",
    "cursor.close()\n",
    "connection1.close()"
   ]
  },
  {
   "cell_type": "code",
   "execution_count": 38,
   "id": "ebcfb5ee",
   "metadata": {},
   "outputs": [
    {
     "name": "stdout",
     "output_type": "stream",
     "text": [
      "Number of unique users: 80943\n"
     ]
    }
   ],
   "source": [
    "#Directly from file\n",
    "\n",
    "import json\n",
    "with open('/Users/mazinrafi/Downloads/corona-out-3.json') as f:\n",
    "    file_data = json.load(f)\n",
    "\n",
    "unique_users = set()\n",
    "\n",
    "for i in file_data:\n",
    "    unique_users.add(i['user']['id'])\n",
    "\n",
    "num_unique_users = len(unique_users)\n",
    "print(\"Number of unique users:\", num_unique_users)"
   ]
  },
  {
   "cell_type": "code",
   "execution_count": 19,
   "id": "7a4c56f3",
   "metadata": {},
   "outputs": [
    {
     "data": {
      "text/plain": [
       "80943"
      ]
     },
     "execution_count": 19,
     "metadata": {},
     "output_type": "execute_result"
    }
   ],
   "source": [
    "len(users)"
   ]
  },
  {
   "cell_type": "code",
   "execution_count": null,
   "id": "484e9b2b",
   "metadata": {},
   "outputs": [],
   "source": [
    "#For testing purposes if needed. Do not run the cell\n",
    "\n",
    "#Drop DB. May need to adjust the connection accordingly. \n",
    "connection1 = mysql.connector.connect(host=\"localhost\", user=\"root\", password=\"gXt,:RsU#U-ws:3\",database=\"new_database\")\n",
    "cursor = connection1.cursor()\n",
    "sql= \"DROP DATABASE my_database\"\n",
    "cursor.execute(sql)\n"
   ]
  },
  {
   "cell_type": "code",
   "execution_count": 58,
   "id": "658849c3",
   "metadata": {},
   "outputs": [],
   "source": [
    "\n",
    "#Drop Table\n",
    "connection1 = mysql.connector.connect(host=\"localhost\", user=\"root\", password=\"gXt,:RsU#U-ws:3\",database=\"new_database\")\n",
    "cursor = connection1.cursor()\n",
    "sql= \"DROP TABLE users\"\n",
    "cursor.execute(sql)\n",
    "\n",
    "#Test to see if your connection works: \n",
    "\n",
    "import mysql.connector\n",
    "import json\n",
    "\n",
    "try:\n",
    "    connection1 = mysql.connector.connect(host=\"localhost\", user=\"root\", password=\"gXt,:RsU#U-ws:3\",database=\"corona_out_2_db\")\n",
    "    print(\"Connected to MySQL server and database.\")\n",
    "except mysql.connector.Error as error:\n",
    "    print(\"Failed to connect to MySQL server: {}\".format(error))"
   ]
  },
  {
   "cell_type": "code",
   "execution_count": 109,
   "id": "171a86e9",
   "metadata": {},
   "outputs": [],
   "source": [
    "#Side Notes\n",
    "\n",
    "#need to keep the Python\n",
    "#JSON Import Utility\n",
    "#Primary Key needed\n",
    "#Database needed and ID\n",
    "# create a new database. This database is called \"new_database\"\n"
   ]
  },
  {
   "cell_type": "code",
   "execution_count": null,
   "id": "5fe33c84",
   "metadata": {},
   "outputs": [],
   "source": []
  },
  {
   "cell_type": "code",
   "execution_count": null,
   "id": "bcb3b6e7",
   "metadata": {},
   "outputs": [],
   "source": []
  }
 ],
 "metadata": {
  "kernelspec": {
   "display_name": "Python 3 (ipykernel)",
   "language": "python",
   "name": "python3"
  },
  "language_info": {
   "codemirror_mode": {
    "name": "ipython",
    "version": 3
   },
   "file_extension": ".py",
   "mimetype": "text/x-python",
   "name": "python",
   "nbconvert_exporter": "python",
   "pygments_lexer": "ipython3",
   "version": "3.10.8"
  }
 },
 "nbformat": 4,
 "nbformat_minor": 5
}
